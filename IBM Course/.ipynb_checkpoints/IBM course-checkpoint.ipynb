{
 "cells": [
  {
   "cell_type": "markdown",
   "id": "f72e1be1",
   "metadata": {},
   "source": [
    "# The begnning\n",
    "Hello every one here i am trying my first code in python"
   ]
  },
  {
   "cell_type": "code",
   "execution_count": 10,
   "id": "61f72aa3",
   "metadata": {
    "collapsed": true
   },
   "outputs": [
    {
     "name": "stdout",
     "output_type": "stream",
     "text": [
      "Hello world\n",
      "Insert a number\n",
      "your number: 7\n",
      "9\n"
     ]
    }
   ],
   "source": [
    "print(\"Hello world\")\n",
    "print(\"Insert a number\")\n",
    "a= int(input(\"your number: \"))\n",
    "b=2; c=a+b\n",
    "print(c)"
   ]
  },
  {
   "cell_type": "markdown",
   "id": "c567fca3",
   "metadata": {},
   "source": [
    "# Loops\n",
    "For and while loop\n",
    "\n",
    "For index in a sequence execute a code"
   ]
  },
  {
   "cell_type": "code",
   "execution_count": 13,
   "id": "e5d721f9",
   "metadata": {},
   "outputs": [
    {
     "name": "stdout",
     "output_type": "stream",
     "text": [
      "I love you\n",
      "I love you\n"
     ]
    }
   ],
   "source": [
    "i=0\n",
    "for i in range(0,2):\n",
    "    print(\"I love you\") "
   ]
  },
  {
   "cell_type": "markdown",
   "id": "d6356ce9",
   "metadata": {},
   "source": [
    "While a condition is true execute a code "
   ]
  },
  {
   "cell_type": "code",
   "execution_count": 4,
   "id": "cce602c3",
   "metadata": {},
   "outputs": [
    {
     "name": "stdout",
     "output_type": "stream",
     "text": [
      "Insert to what number you want to count: 10\n",
      "0\n",
      "1\n",
      "2\n",
      "3\n",
      "4\n",
      "5\n",
      "6\n",
      "7\n",
      "8\n",
      "9\n",
      "10\n",
      "It's over baby\n"
     ]
    }
   ],
   "source": [
    "n = int(input(\"Insert to what number you want to count: \"))\n",
    "i=0\n",
    "\n",
    "while (i<=n):\n",
    "    print(i)\n",
    "    i=i+1\n",
    "    \n",
    "print(\"It's over baby\")"
   ]
  },
  {
   "cell_type": "markdown",
   "id": "8ed8bf1a",
   "metadata": {},
   "source": [
    "# Functions\n",
    "how to use functions, you can create a personal function and the process ir you give an input that will sufer a serie of actions and will return the output"
   ]
  },
  {
   "cell_type": "code",
   "execution_count": 9,
   "id": "6a675d94",
   "metadata": {},
   "outputs": [
    {
     "data": {
      "text/plain": [
       "10"
      ]
     },
     "execution_count": 9,
     "metadata": {},
     "output_type": "execute_result"
    }
   ],
   "source": [
    "def suma1(b):\n",
    "    a=b+5\n",
    "    return a\n",
    "\n",
    "suma1(5)"
   ]
  },
  {
   "cell_type": "code",
   "execution_count": 2,
   "id": "153eb5fc",
   "metadata": {},
   "outputs": [
    {
     "name": "stdout",
     "output_type": "stream",
     "text": [
      "Help on built-in function sum in module builtins:\n",
      "\n",
      "sum(iterable, /, start=0)\n",
      "    Return the sum of a 'start' value (default: 0) plus an iterable of numbers\n",
      "    \n",
      "    When the iterable is empty, return the start value.\n",
      "    This function is intended specifically for use with numeric values and may\n",
      "    reject non-numeric types.\n",
      "\n"
     ]
    }
   ],
   "source": []
  },
  {
   "cell_type": "markdown",
   "id": "1cd5384d",
   "metadata": {},
   "source": [
    "# Exception Handling\n",
    "Exceptions are alerts when something unexpected happens while running a program. It could be a mistake in the code or a situation that was not planned for. Python can raise these alerts automatically, but we can also trigger them on purpose using the raise command. The cool part is that we can prevent our program from crashing by handling exceptions.\n",
    "\n"
   ]
  },
  {
   "cell_type": "code",
   "execution_count": null,
   "id": "85d54c68",
   "metadata": {},
   "outputs": [],
   "source": [
    "try:\n",
    "    a=10\n",
    "    b=float(input(\"Insert the number that you want to divide {a}: \"))\n",
    "    c=round(a/b,2)\n",
    "except ZeroDivisionError:\n",
    "    print(\"You can't divide a number by 0. Try again\")\n",
    "except ValueError:\n",
    "    print(\"You didn't provided a number. Try again\")\n",
    "else:\n",
    "    print(f\"The result of divide {a} by {b} was {c}.\")\n",
    "finally:\n",
    "    print(\"\\nThe code runned successfully\")"
   ]
  },
  {
   "cell_type": "code",
   "execution_count": 19,
   "id": "deae4e2b",
   "metadata": {},
   "outputs": [
    {
     "ename": "SyntaxError",
     "evalue": "cannot assign to function call here. Maybe you meant '==' instead of '='? (3896753897.py, line 5)",
     "output_type": "error",
     "traceback": [
      "\u001b[1;36m  Cell \u001b[1;32mIn[19], line 5\u001b[1;36m\u001b[0m\n\u001b[1;33m    y.keys() = x\u001b[0m\n\u001b[1;37m    ^\u001b[0m\n\u001b[1;31mSyntaxError\u001b[0m\u001b[1;31m:\u001b[0m cannot assign to function call here. Maybe you meant '==' instead of '='?\n"
     ]
    }
   ],
   "source": [
    "string= \"abc as\"\n",
    "x = string.split()\n",
    "print(x)\n",
    "y = {}\n",
    "y.keys() = x\n",
    "print(y)\n"
   ]
  }
 ],
 "metadata": {
  "kernelspec": {
   "display_name": "Python 3 (ipykernel)",
   "language": "python",
   "name": "python3"
  },
  "language_info": {
   "codemirror_mode": {
    "name": "ipython",
    "version": 3
   },
   "file_extension": ".py",
   "mimetype": "text/x-python",
   "name": "python",
   "nbconvert_exporter": "python",
   "pygments_lexer": "ipython3",
   "version": "3.11.3"
  }
 },
 "nbformat": 4,
 "nbformat_minor": 5
}
